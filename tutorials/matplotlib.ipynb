{
 "cells": [
  {
   "cell_type": "markdown",
   "metadata": {},
   "source": [
    "# `matplotlib.pyplot` tutorial\n",
    "\n",
    "An introduction to the pyplot interface in the `matplotlib` library, adapted to the Jupyter notebook format from the [`matplotlib` documentation](https://matplotlib.org/stable/tutorials/introductory/pyplot.html)."
   ]
  },
  {
   "cell_type": "markdown",
   "metadata": {},
   "source": [
    "## Intro to pyplot\n",
    "`matplotlib.pyplot` is a collection of functions\n",
    "that make matplotlib work like MATLAB.\n",
    "Each ``pyplot`` function makes\n",
    "some change to a figure: e.g., creates a figure, creates a plotting area\n",
    "in a figure, plots some lines in a plotting area, decorates the plot\n",
    "with labels, etc.\n",
    "\n",
    "In `matplotlib.pyplot` various states are preserved\n",
    "across function calls, so that it keeps track of things like\n",
    "the current figure and plotting area, and the plotting\n",
    "functions are directed to the current axes (please note that \"axes\" here\n",
    "and in most places in the documentation refers to the *axes*\n",
    "[part of a figure](https://matplotlib.org/stable/tutorials/introductory/usage.html#figure-parts)\n",
    "and not the strict mathematical term for more than one axis).\n",
    "\n",
    "Note: the pyplot API is generally less-flexible than the object-oriented API.\n",
    "   Most of the function calls you see here can also be called as methods\n",
    "   from an ``Axes`` object. We recommend browsing the tutorials and\n",
    "   examples to see how this works.\n",
    "\n",
    "Generating visualizations with pyplot is very quick:"
   ]
  },
  {
   "cell_type": "code",
   "execution_count": null,
   "metadata": {},
   "outputs": [],
   "source": [
    "import matplotlib.pyplot as plt\n",
    "plt.plot([1, 2, 3, 4])\n",
    "plt.ylabel('some numbers')\n",
    "plt.show()"
   ]
  },
  {
   "cell_type": "markdown",
   "metadata": {},
   "source": [
    "You may be wondering why the x-axis ranges from 0-3 and the y-axis\n",
    "from 1-4.  If you provide a single list or array to\n",
    "[plot](https://matplotlib.org/stable/api/_as_gen/matplotlib.pyplot.plot.html#matplotlib.pyplot.plot), matplotlib assumes it is a\n",
    "sequence of y values, and automatically generates the x values for\n",
    "you.  Since python ranges start with 0, the default x vector has the\n",
    "same length as y but starts with 0.  Hence the x data are\n",
    "``[0, 1, 2, 3]``."
   ]
  },
  {
   "cell_type": "markdown",
   "metadata": {},
   "source": [
    "## Formatting the style of your plot\n",
    "\n",
    "For every x, y pair of arguments, there is an optional third argument\n",
    "which is the format string that indicates the color and line type of\n",
    "the plot.  The letters and symbols of the format string are from\n",
    "MATLAB, and you concatenate a color string with a line style string.\n",
    "The default format string is 'b-', which is a solid blue line.  For\n",
    "example, to plot the above with red circles, you would issue"
   ]
  },
  {
   "cell_type": "code",
   "execution_count": null,
   "metadata": {},
   "outputs": [],
   "source": [
    "plt.plot([1, 2, 3, 4], [1, 4, 9, 16], 'ro')\n",
    "plt.axis([0, 6, 0, 20])\n",
    "plt.show()"
   ]
  },
  {
   "cell_type": "markdown",
   "metadata": {},
   "source": [
    "See the [`plot`](https://matplotlib.org/stable/api/_as_gen/matplotlib.pyplot.plot.html#matplotlib.pyplot.plot) documentation for a complete\n",
    "list of line styles and format strings.  The\n",
    "[`axis`](https://matplotlib.org/stable/api/_as_gen/matplotlib.pyplot.axis.html#matplotlib.pyplot.axis) function in the example above takes a\n",
    "list of ``[xmin, xmax, ymin, ymax]`` and specifies the viewport of the\n",
    "axes.\n",
    "\n",
    "If matplotlib were limited to working with lists, it would be fairly\n",
    "useless for numeric processing.  Generally, you will use `numpy\n",
    "<http://www.numpy.org>`_ arrays.  In fact, all sequences are\n",
    "converted to numpy arrays internally.  The example below illustrates\n",
    "plotting several lines with different format styles in one function call\n",
    "using arrays."
   ]
  },
  {
   "cell_type": "code",
   "execution_count": null,
   "metadata": {},
   "outputs": [],
   "source": [
    "import numpy as np\n",
    "\n",
    "# evenly sampled time at 200ms intervals\n",
    "t = np.arange(0., 5., 0.2)\n",
    "\n",
    "# red dashes, blue squares and green triangles\n",
    "plt.plot(t, t, 'r--', t, t**2, 'bs', t, t**3, 'g^')\n",
    "plt.show()"
   ]
  },
  {
   "cell_type": "markdown",
   "metadata": {},
   "source": [
    "## Plotting with keyword strings\n",
    "\n",
    "There are some instances where you have data in a format that lets you\n",
    "access particular variables with strings. For example, with\n",
    "`numpy.recarray` or `pandas.DataFrame`.\n",
    "\n",
    "Matplotlib allows you provide such an object with\n",
    "the ``data`` keyword argument. If provided, then you may generate plots with\n",
    "the strings corresponding to these variables."
   ]
  },
  {
   "cell_type": "code",
   "execution_count": null,
   "metadata": {},
   "outputs": [],
   "source": [
    "data = {'a': np.arange(50),\n",
    "        'c': np.random.randint(0, 50, 50),\n",
    "        'd': np.random.randn(50)}\n",
    "data['b'] = data['a'] + 10 * np.random.randn(50)\n",
    "data['d'] = np.abs(data['d']) * 100\n",
    "\n",
    "plt.scatter('a', 'b', c='c', s='d', data=data)\n",
    "plt.xlabel('entry a')\n",
    "plt.ylabel('entry b')\n",
    "plt.show()"
   ]
  },
  {
   "cell_type": "markdown",
   "metadata": {},
   "source": [
    "## Plotting with categorical variables\n",
    "\n",
    "It is also possible to create a plot using categorical variables.\n",
    "Matplotlib allows you to pass categorical variables directly to\n",
    "many plotting functions. For example:"
   ]
  },
  {
   "cell_type": "code",
   "execution_count": null,
   "metadata": {},
   "outputs": [],
   "source": [
    "names = ['group_a', 'group_b', 'group_c']\n",
    "values = [1, 10, 100]\n",
    "\n",
    "plt.figure(figsize=(9, 3))\n",
    "\n",
    "plt.subplot(131)\n",
    "plt.bar(names, values)\n",
    "plt.subplot(132)\n",
    "plt.scatter(names, values)\n",
    "plt.subplot(133)\n",
    "plt.plot(names, values)\n",
    "plt.suptitle('Categorical Plotting')\n",
    "plt.show()"
   ]
  },
  {
   "cell_type": "markdown",
   "metadata": {},
   "source": [
    "## Controlling line properties\n",
    "\n",
    "Lines have many attributes that you can set: linewidth, dash style,\n",
    "antialiased, etc; see `matplotlib.lines.Line2D`.  There are\n",
    "several ways to set line properties\n",
    "\n",
    "* Use keyword arguments::\n",
    "      ```\n",
    "      plt.plot(x, y, linewidth=2.0)\n",
    "      ````\n",
    "\n",
    "* Use the setter methods of a ``Line2D`` instance.  ``plot`` returns a list\n",
    "  of ``Line2D`` objects; e.g., ``line1, line2 = plot(x1, y1, x2, y2)``.  In the code\n",
    "  below we will suppose that we have only\n",
    "  one line so that the list returned is of length 1.  We use tuple unpacking with\n",
    "  ``line,`` to get the first element of that list::\n",
    "\n",
    "      line, = plt.plot(x, y, '-')\n",
    "      line.set_antialiased(False) # turn off antialiasing\n",
    "\n",
    "* Use [``setp``](https://matplotlib.org/stable/api/_as_gen/matplotlib.pyplot.setp.html#matplotlib.pyplot.setp).  The example below\n",
    "  uses a MATLAB-style function to set multiple properties\n",
    "  on a list of lines.  [`setp`](https://matplotlib.org/stable/api/_as_gen/matplotlib.pyplot.setp.html#matplotlib.pyplot.setp) works transparently with a list of objects\n",
    "  or a single object.  You can either use python keyword arguments or\n",
    "  MATLAB-style string/value pairs::\n",
    "\n",
    "      lines = plt.plot(x1, y1, x2, y2)\n",
    "      # use keyword arguments\n",
    "      plt.setp(lines, color='r', linewidth=2.0)\n",
    "      # or MATLAB style string value pairs\n",
    "      plt.setp(lines, 'color', 'r', 'linewidth', 2.0)"
   ]
  },
  {
   "cell_type": "markdown",
   "metadata": {},
   "source": [
    "Working with multiple figures and axes\n",
    "\n",
    "MATLAB, and [`pyplot`](https://matplotlib.org/stable/api/_as_gen/matplotlib.pyplot.html#module-matplotlib.pyplot), have the concept of the current figure\n",
    "and the current axes.  All plotting functions apply to the current\n",
    "axes.  The function [`gca`](https://matplotlib.org/stable/api/_as_gen/matplotlib.pyplot.gca.html#matplotlib.pyplot.gca) returns the current axes (a\n",
    "`matplotlib.axes.Axes` instance), and [`gcf`](https://matplotlib.org/stable/api/_as_gen/matplotlib.pyplot.gcf.html#matplotlib.pyplot.gcf) returns the current\n",
    "figure (a `matplotlib.figure.Figure` instance). Normally, you don't have to\n",
    "worry about this, because it is all taken care of behind the scenes.  Below\n",
    "is a script to create two subplots."
   ]
  },
  {
   "cell_type": "code",
   "execution_count": null,
   "metadata": {},
   "outputs": [],
   "source": [
    "def f(t):\n",
    "    return np.exp(-t) * np.cos(2*np.pi*t)\n",
    "\n",
    "t1 = np.arange(0.0, 5.0, 0.1)\n",
    "t2 = np.arange(0.0, 5.0, 0.02)\n",
    "\n",
    "plt.figure()\n",
    "plt.subplot(211)\n",
    "plt.plot(t1, f(t1), 'bo', t2, f(t2), 'k')\n",
    "\n",
    "plt.subplot(212)\n",
    "plt.plot(t2, np.cos(2*np.pi*t2), 'r--')\n",
    "plt.show()"
   ]
  },
  {
   "cell_type": "markdown",
   "metadata": {},
   "source": [
    "The [`figure`](https://matplotlib.org/stable/api/_as_gen/matplotlib.pyplot.figure.html#matplotlib.pyplot.figure) call here is optional because a figure will be created\n",
    "if none exists, just as an axes will be created (equivalent to an explicit\n",
    "[`subplot()`](https://matplotlib.org/stable/api/_as_gen/matplotlib.pyplot.subplot.html#matplotlib.pyplot.subplot) call) if none exists.\n",
    "The [`subplot()`](https://matplotlib.org/stable/api/_as_gen/matplotlib.pyplot.subplot.html#matplotlib.pyplot.subplot) call specifies ``numrows,\n",
    "numcols, plot_number`` where ``plot_number`` ranges from 1 to\n",
    "``numrows*numcols``.  The commas in the ``subplot`` call are\n",
    "optional if ``numrows*numcols<10``.  So ``subplot(211)`` is identical\n",
    "to ``subplot(2, 1, 1)``.\n",
    "\n",
    "You can create an arbitrary number of subplots\n",
    "and axes.  If you want to place an axes manually, i.e., not on a\n",
    "rectangular grid, use [`axes`](https://matplotlib.org/stable/api/_as_gen/matplotlib.pyplot.axes.html#matplotlib.pyplot.axes),\n",
    "which allows you to specify the location as ``axes([left, bottom,\n",
    "width, height])`` where all values are in fractional (0 to 1)\n",
    "coordinates.  See [Axes Demo](https://matplotlib.org/stable/gallery/subplots_axes_and_figures/axes_demo.html) for an example of\n",
    "placing axes manually and [Basic Subplot Demo](https://matplotlib.org/stable/gallery/subplots_axes_and_figures/subplot_demo.html) for an\n",
    "example with lots of subplots.\n",
    "\n",
    "\n",
    "You can create multiple figures by using multiple\n",
    "[`figure`](https://matplotlib.org/stable/api/_as_gen/matplotlib.pyplot.figure.html#matplotlib.pyplot.figure) calls with an increasing figure\n",
    "number.  Of course, each figure can contain as many axes and subplots\n",
    "as your heart desires::\n",
    "\n",
    "    import matplotlib.pyplot as plt\n",
    "    plt.figure(1)                # the first figure\n",
    "    plt.subplot(211)             # the first subplot in the first figure\n",
    "    plt.plot([1, 2, 3])\n",
    "    plt.subplot(212)             # the second subplot in the first figure\n",
    "    plt.plot([4, 5, 6])\n",
    "\n",
    "\n",
    "    plt.figure(2)                # a second figure\n",
    "    plt.plot([4, 5, 6])          # creates a subplot() by default\n",
    "\n",
    "    plt.figure(1)                # figure 1 current; subplot(212) still current\n",
    "    plt.subplot(211)             # make subplot(211) in figure1 current\n",
    "    plt.title('Easy as 1, 2, 3') # subplot 211 title\n",
    "\n",
    "You can clear the current figure with [`clf`](https://matplotlib.org/stable/api/_as_gen/matplotlib.pyplot.clf.html#matplotlib.pyplot.clf)\n",
    "and the current axes with [`cla`](https://matplotlib.org/stable/api/_as_gen/matplotlib.pyplot.cla.html#matplotlib.pyplot.cla).  If you find\n",
    "it annoying that states (specifically the current image, figure and axes)\n",
    "are being maintained for you behind the scenes, don't despair: this is just a thin\n",
    "stateful wrapper around an object oriented API, which you can use\n",
    "instead (see [Artist tutorial](https://matplotlib.org/stable/tutorials/intermediate/artists.html))\n",
    "\n",
    "If you are making lots of figures, you need to be aware of one\n",
    "more thing: the memory required for a figure is not completely\n",
    "released until the figure is explicitly closed with\n",
    "[`close`](https://matplotlib.org/stable/api/_as_gen/matplotlib.pyplot.close.html#matplotlib.pyplot.close).  Deleting all references to the\n",
    "figure, and/or using the window manager to kill the window in which\n",
    "the figure appears on the screen, is not enough, because pyplot\n",
    "maintains internal references until [`close`](https://matplotlib.org/stable/api/_as_gen/matplotlib.pyplot.close.html#matplotlib.pyplot.close)\n",
    "is called."
   ]
  },
  {
   "cell_type": "markdown",
   "metadata": {},
   "source": [
    "## Working with text\n",
    "\n",
    "[`text`](https://matplotlib.org/stable/api/_as_gen/matplotlib.pyplot.text.html#matplotlib.pyplot.text) can be used to add text in an arbitrary location, and\n",
    "[`xlabel`](https://matplotlib.org/stable/api/_as_gen/matplotlib.pyplot.xlabel.html#matplotlib.pyplot.xlabel), [`ylabel`](https://matplotlib.org/stable/api/_as_gen/matplotlib.pyplot.ylabel.html#matplotlib.pyplot.ylabel) and [`title`](https://matplotlib.org/stable/api/_as_gen/matplotlib.pyplot.title.html#matplotlib.pyplot.title) are used to add\n",
    "text in the indicated locations (see [Text in Matplotlib Plots](https://matplotlib.org/stable/tutorials/text/text_intro.html) for a\n",
    "more detailed example)"
   ]
  },
  {
   "cell_type": "code",
   "execution_count": null,
   "metadata": {},
   "outputs": [],
   "source": [
    "mu, sigma = 100, 15\n",
    "x = mu + sigma * np.random.randn(10000)\n",
    "\n",
    "# the histogram of the data\n",
    "n, bins, patches = plt.hist(x, 50, density=1, facecolor='g', alpha=0.75)\n",
    "\n",
    "\n",
    "plt.xlabel('Smarts')\n",
    "plt.ylabel('Probability')\n",
    "plt.title('Histogram of IQ')\n",
    "plt.text(60, .025, r'$\\mu=100,\\ \\sigma=15$')\n",
    "plt.axis([40, 160, 0, 0.03])\n",
    "plt.grid(True)\n",
    "plt.show()"
   ]
  },
  {
   "cell_type": "markdown",
   "metadata": {},
   "source": [
    "All of the [`text`](https://matplotlib.org/stable/api/_as_gen/matplotlib.pyplot.text.html#matplotlib.pyplot.text) functions return a `matplotlib.text.Text`\n",
    "instance.  Just as with lines above, you can customize the properties by\n",
    "passing keyword arguments into the text functions or using [`setp`](https://matplotlib.org/stable/api/_as_gen/matplotlib.pyplot.setp.html#matplotlib.pyplot.setp):\n",
    "\n",
    "  t = plt.xlabel('my data', fontsize=14, color='red')\n",
    "\n",
    "These properties are covered in more detail in [Text properties and layout](https://matplotlib.org/stable/tutorials/text/text_props.html)."
   ]
  },
  {
   "cell_type": "markdown",
   "metadata": {},
   "source": [
    "### Using mathematical expressions in text\n",
    "\n",
    "matplotlib accepts TeX equation expressions in any text expression.\n",
    "For example to write the expression $\\sigma_i=15$ in the title,\n",
    "you can write a TeX expression surrounded by dollar signs::\n",
    "\n",
    "    plt.title(r'$\\sigma_i=15$')\n",
    "\n",
    "The ``r`` preceding the title string is important -- it signifies\n",
    "that the string is a *raw* string and not to treat backslashes as\n",
    "python escapes.  matplotlib has a built-in TeX expression parser and\n",
    "layout engine, and ships its own math fonts -- for details see\n",
    "[Writing mathematical expressions](https://matplotlib.org/stable/tutorials/text/mathtext.html).  Thus you can use mathematical text across platforms\n",
    "without requiring a TeX installation.  For those who have LaTeX and\n",
    "dvipng installed, you can also use LaTeX to format your text and\n",
    "incorporate the output directly into your display figures or saved\n",
    "postscript -- see [Text rendering with LaTeX](https://matplotlib.org/stable/tutorials/text/usetex.html).\n"
   ]
  },
  {
   "cell_type": "markdown",
   "metadata": {},
   "source": [
    "### Annotating text\n",
    "\n",
    "The uses of the basic `~.pyplot.text` function above\n",
    "place text at an arbitrary position on the Axes.  A common use for\n",
    "text is to annotate some feature of the plot, and the\n",
    "`~.pyplot.annotate` method provides helper\n",
    "functionality to make annotations easy.  In an annotation, there are\n",
    "two points to consider: the location being annotated represented by\n",
    "the argument ``xy`` and the location of the text ``xytext``.  Both of\n",
    "these arguments are ``(x, y)`` tuples."
   ]
  },
  {
   "cell_type": "code",
   "execution_count": null,
   "metadata": {},
   "outputs": [],
   "source": [
    "ax = plt.subplot()\n",
    "\n",
    "t = np.arange(0.0, 5.0, 0.01)\n",
    "s = np.cos(2*np.pi*t)\n",
    "line, = plt.plot(t, s, lw=2)\n",
    "\n",
    "plt.annotate('local max', xy=(2, 1), xytext=(3, 1.5),\n",
    "             arrowprops=dict(facecolor='black', shrink=0.05),\n",
    "             )\n",
    "\n",
    "plt.ylim(-2, 2)\n",
    "plt.show()"
   ]
  },
  {
   "cell_type": "markdown",
   "metadata": {},
   "source": [
    "In this basic example, both the ``xy`` (arrow tip) and ``xytext``\n",
    "locations (text location) are in data coordinates.  There are a\n",
    "variety of other coordinate systems one can choose -- see\n",
    "[Basic annotation](https://matplotlib.org/stable/tutorials/text/annotations.html#annotations-tutorial) and [Advanced Annotations](https://matplotlib.org/stable/tutorials/text/annotations.html#plotting-guide-annotation) for\n",
    "details.  More examples can be found in\n",
    "[Annotating Plots](https://matplotlib.org/stable/gallery/text_labels_and_annotations/annotation_demo.html).\n"
   ]
  },
  {
   "cell_type": "markdown",
   "metadata": {},
   "source": [
    "### Logarithmic and other nonlinear axes\r\n",
    "\r\n",
    "`matplotlib.pyplot` supports not only linear axis scales, but also\r\n",
    "logarithmic and logit scales. This is commonly used if data spans many orders\r\n",
    "of magnitude. Changing the scale of an axis is easy:\r\n",
    "\r\n",
    "    plt.xscale('log')\r\n"
   ]
  },
  {
   "cell_type": "markdown",
   "metadata": {},
   "source": [
    "It is also possible to add your own scale, see [Developer's guide for creating scales and transformations](https://matplotlib.org/stable/devel/add_new_projection.html#adding-new-scales) for\n",
    "details."
   ]
  }
 ],
 "metadata": {
  "interpreter": {
   "hash": "aee8b7b246df8f9039afb4144a1f6fd8d2ca17a180786b69acc140d282b71a49"
  },
  "kernelspec": {
   "display_name": "Python 3.8.6 64-bit",
   "name": "python3"
  },
  "language_info": {
   "name": "python",
   "version": ""
  },
  "orig_nbformat": 4
 },
 "nbformat": 4,
 "nbformat_minor": 2
}